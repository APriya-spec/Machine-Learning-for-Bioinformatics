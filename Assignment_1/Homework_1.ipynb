{
  "nbformat": 4,
  "nbformat_minor": 0,
  "metadata": {
    "colab": {
      "provenance": [],
      "toc_visible": true
    },
    "kernelspec": {
      "name": "python3",
      "display_name": "Python 3"
    },
    "language_info": {
      "name": "python"
    }
  },
  "cells": [
    {
      "cell_type": "code",
      "source": [
        "import numpy as np\n",
        "import pandas as pd\n",
        "from sklearn.linear_model import Perceptron\n",
        "from sklearn.linear_model import LinearRegression\n",
        "from sklearn.discriminant_analysis import LinearDiscriminantAnalysis\n"
      ],
      "metadata": {
        "id": "EsUCqV_WhZjj"
      },
      "execution_count": null,
      "outputs": []
    },
    {
      "cell_type": "markdown",
      "source": [
        "Question 1"
      ],
      "metadata": {
        "id": "J_9ArQ2VfUm5"
      }
    },
    {
      "cell_type": "code",
      "execution_count": 2,
      "metadata": {
        "colab": {
          "base_uri": "https://localhost:8080/"
        },
        "id": "nP8Fpka1d42o",
        "outputId": "e6869b8d-1608-4fd4-e5e8-a4f076c06723"
      },
      "outputs": [
        {
          "output_type": "stream",
          "name": "stdout",
          "text": [
            "Iteration 1, Current weights: [0 6 6]\n",
            "Misclassified: x3 = [1 0 2], y3 = -1\n",
            "Updated weights: [-1  6  4]\n",
            "Iteration 2, Current weights: [-1  6  4]\n",
            "Misclassified: x3 = [1 0 2], y3 = -1\n",
            "Updated weights: [-2  6  2]\n",
            "Iteration 3, Current weights: [-2  6  2]\n",
            "Misclassified: x3 = [1 0 2], y3 = -1\n",
            "Updated weights: [-3  6  0]\n",
            "Iteration 4, Current weights: [-3  6  0]\n",
            "Final weight vector: [-3  6  0]\n"
          ]
        }
      ],
      "source": [
        "\n",
        "# Defing data points and labels.\n",
        "X = np.array([[1, 2, 0], [1, 2, 2], [1, 0, 2]])\n",
        "y = np.array([1, 1, -1])\n",
        "\n",
        "# Initializing weight vector.\n",
        "w = np.array([0, 6, 6])\n",
        "\n",
        "# Perceptron learning algorithm.\n",
        "converged = False\n",
        "iteration = 0\n",
        "\n",
        "while not converged:\n",
        "    iteration += 1\n",
        "    print(f\"Iteration {iteration}, Current weights: {w}\")\n",
        "    converged = True\n",
        "# Assume convergence unless an update happens\n",
        "    for i in range(len(X)):\n",
        "        if np.sign(np.dot(w, X[i])) != y[i]:\n",
        "            print(f\"Misclassified: x{i+1} = {X[i]}, y{i+1} = {y[i]}\")\n",
        "            w = w + y[i] * X[i]\n",
        "            converged = False\n",
        "            print(f\"Updated weights: {w}\")\n",
        "\n",
        "print(\"Final weight vector:\",w)"
      ]
    },
    {
      "cell_type": "markdown",
      "source": [
        "Question 2. (a)"
      ],
      "metadata": {
        "id": "AzeE3KMWfdlf"
      }
    },
    {
      "cell_type": "code",
      "source": [
        "\n",
        "\n",
        "# Initializing data points.\n",
        "X = np.array([\n",
        "    [1, 3, 2],  # x1\n",
        "    [1, 2, 2],  # x2\n",
        "    [1, 1, -1], # x3\n",
        "    [1, -1, -3] # x4\n",
        "])\n",
        "\n",
        "# Corresponding labels\n",
        "y = np.array([3, 1, -1, -3])\n",
        "\n",
        "# Computing weight vector using the normal equation: w = (X^T X)^-1 X^T y\n",
        "w = np.linalg.inv(X.T @ X) @ X.T @ y\n",
        "\n",
        "print(\"Weight vector w:\", w)"
      ],
      "metadata": {
        "colab": {
          "base_uri": "https://localhost:8080/"
        },
        "id": "k2VjNsahfcz3",
        "outputId": "9565ee5d-84f4-45f6-ef91-cc1c8a8a3373"
      },
      "execution_count": 4,
      "outputs": [
        {
          "output_type": "stream",
          "name": "stdout",
          "text": [
            "Weight vector w: [-1.66666667  1.33333333  0.11111111]\n"
          ]
        }
      ]
    },
    {
      "cell_type": "markdown",
      "source": [
        "Question 2. (b)"
      ],
      "metadata": {
        "id": "rLcwcJUOf0YO"
      }
    },
    {
      "cell_type": "code",
      "source": [
        "# Initializing data points.\n",
        "X = np.array([\n",
        "    [1, 3, 2],  # x1\n",
        "    [1, 2, 2],  # x2\n",
        "    [1, 1, -1], # x3\n",
        "    [1, -1, -3] # x4\n",
        "])\n",
        "\n",
        "# Corresponding labels\n",
        "y = np.array([3, 1, -1, -3])\n",
        "\n",
        "# Used sklearn's LinearRegression module\n",
        "model = LinearRegression(fit_intercept=False)  # We already have the bias term in X\n",
        "model.fit(X, y)\n",
        "\n",
        "# Get weight vector w\n",
        "w = model.coef_\n",
        "\n",
        "print(\"Weight vector w:\", w)\n"
      ],
      "metadata": {
        "colab": {
          "base_uri": "https://localhost:8080/"
        },
        "id": "aH0wyoCof0z_",
        "outputId": "a1d9835a-6dde-4f27-b07a-4283a902fd57"
      },
      "execution_count": 5,
      "outputs": [
        {
          "output_type": "stream",
          "name": "stdout",
          "text": [
            "Weight vector w: [-1.66666667  1.33333333  0.11111111]\n"
          ]
        }
      ]
    },
    {
      "cell_type": "markdown",
      "source": [
        "Question 3."
      ],
      "metadata": {
        "id": "rYK6j9pSgMqk"
      }
    },
    {
      "cell_type": "code",
      "source": [
        "# Initializing data points and labels.\n",
        "X = np.array([\n",
        "    [4, 3],  # x1\n",
        "    [2, 2],  # x2\n",
        "    [1, 1],  # x3\n",
        "    [-2, -1] # x4\n",
        "])\n",
        "\n",
        "y = np.array([1, 1, -1, -1])\n",
        "\n",
        "# Computing class means\n",
        "class1 = X[y == 1]\n",
        "class2 = X[y == -1]\n",
        "\n",
        "mean1 = np.mean(class1, axis=0)\n",
        "mean2 = np.mean(class2, axis=0)\n",
        "\n",
        "# Computing scatter matrices\n",
        "S1 = np.cov(class1, rowvar=False)\n",
        "S2 = np.cov(class2, rowvar=False)\n",
        "Sw = S1 + S2  # Within-class scatter matrix\n",
        "\n",
        "# Computing Fisher's linear discriminant vector\n",
        "w = np.linalg.inv(Sw) @ (mean1 - mean2)\n",
        "\n",
        "print(\"Fisher's linear discriminant vector w:\", w)\n"
      ],
      "metadata": {
        "colab": {
          "base_uri": "https://localhost:8080/"
        },
        "id": "vkIxO91egM2l",
        "outputId": "7c8a5a57-43b5-41dc-c4ae-592dcb0bf120"
      },
      "execution_count": 6,
      "outputs": [
        {
          "output_type": "stream",
          "name": "stdout",
          "text": [
            "Fisher's linear discriminant vector w: [-5.  9.]\n"
          ]
        }
      ]
    },
    {
      "cell_type": "markdown",
      "source": [
        "Question 4"
      ],
      "metadata": {
        "id": "N2DihUnSgoye"
      }
    },
    {
      "cell_type": "code",
      "source": [
        "\n",
        "# Loading the dataset\n",
        "file_path = 'heart_disease_data.txt'\n",
        "data = pd.read_csv(file_path, delimiter=',')\n",
        "\n",
        "# Separated features and labels\n",
        "X = data.iloc[:, :-1].values\n",
        "y = data.iloc[:, -1].values\n",
        "\n",
        "# Perceptron for linear classification\n",
        "perceptron = Perceptron()\n",
        "perceptron.fit(X, y)\n",
        "perceptron_w = perceptron.coef_\n",
        "print(\"Perceptron weight vector w:\", perceptron_w)\n",
        "\n",
        "# LDA for linear discriminant analysis\n",
        "lda = LinearDiscriminantAnalysis()\n",
        "lda.fit(X, y)\n",
        "lda_w = lda.coef_\n",
        "print(\"LDA weight vector w:\", lda_w)\n"
      ],
      "metadata": {
        "colab": {
          "base_uri": "https://localhost:8080/"
        },
        "id": "VvMnb-nuhE1Y",
        "outputId": "d220a693-0e7a-4a13-eace-485a1f504149"
      },
      "execution_count": 8,
      "outputs": [
        {
          "output_type": "stream",
          "name": "stdout",
          "text": [
            "Perceptron weight vector w: [[  731.     67.    197.    325.     23.    -10.    116.  -1187.     59.\n",
            "    189.9    93.    159.    508. ]]\n",
            "LDA weight vector w: [[-0.00473584  1.26780721  1.30117132 -0.03437771  0.01697281 -0.07954438\n",
            "   0.66800376 -0.01986038  0.32713953  0.78643444  0.25465599  1.02247583\n",
            "   0.99167057]]\n"
          ]
        }
      ]
    }
  ]
}